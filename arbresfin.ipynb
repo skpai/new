{
 "cells": [
  {
   "cell_type": "markdown",
   "metadata": {},
   "source": [
    "### Author: Suresh Kumar S. Pillai\n",
    "## https://github.com/skpai/new\n",
    "## 30 Mar 2021"
   ]
  },
  {
   "cell_type": "code",
   "execution_count": null,
   "metadata": {},
   "outputs": [],
   "source": [
    "#file io\n",
    "import csv"
   ]
  },
  {
   "cell_type": "markdown",
   "metadata": {},
   "source": [
    "# File I/O"
   ]
  },
  {
   "cell_type": "code",
   "execution_count": 2,
   "metadata": {},
   "outputs": [],
   "source": [
    "#file='/home/d5learner-07/Downloads/trees.csv' \n",
    "#file=\"C:/tmp/pyth/trees.csv\"\n",
    "file=\"arbres.csv\"\n",
    "with open(file, mode='r') as f:\n",
    "    reader = csv.reader(f, delimiter=\",\")\n",
    "    data = list(reader)\n",
    "data[0][0]='ID'"
   ]
  },
  {
   "cell_type": "markdown",
   "metadata": {},
   "source": [
    "# ligne 1 et ligne 2"
   ]
  },
  {
   "cell_type": "code",
   "execution_count": 3,
   "metadata": {},
   "outputs": [
    {
     "name": "stdout",
     "output_type": "stream",
     "text": [
      "**********************line 1***********************\n",
      " ['ID', 'CODE', 'NOM', 'GENRE', 'GENRE_DESC', 'CATEGORIE', 'CATEGORIE_DESC', 'SOUS_CATEGORIE', 'SOUS_CATEGORIE_DESC', 'CODE_PARENT', 'CODE_PARENT_DESC', 'ADR_SECTEUR', 'BIEN_REFERENCE', 'GENRE_BOTA', 'ESPECE', 'VARIETE', 'STADEDEDEVELOPPEMENT', 'EQUIPE', 'REMARQUES', 'ANNEEDEPLANTATION', 'RAISONDEPLANTATION', 'TRAITEMENTCHENILLES', 'COURRIER', 'IDENTIFIANTPLU', 'TYPEIMPLANTATIONPLU', 'INTITULEPROTECTIONPLU', 'ANNEEABATTAGE', 'ESSOUCHEMENT', 'DIAMETREARBRE', 'CAUSEABATTAGE', 'COLLECTIVITE', 'GeoJSON']\n",
      "**********************line 2***********************\n",
      " ['32660', 'ESP33138', 'ESP33138', 'VEG', 'VEGETATION', 'ESP01', 'Arbre', 'ESP151', 'Arbre de voirie', 'ESP33117', 'R Manteyer Kaunas Ã\\xa0 J Perrot', '5', 'AR33138', 'Acer', 'rubrum', '', 'Arbre jeune', '', '', '2013', 'Nouveau', '', '', '', '', '', '', '', '', '', 'Grenoble Alpes MÃ©tropole', '{\"type\":\"Point\",\"coordinates\":[5.74140595168539,45.1722673495048]}']\n"
     ]
    }
   ],
   "source": [
    "print(\"**********************line 1***********************\\n\", data[0])\n",
    "print(\"**********************line 2***********************\\n\", data[1])"
   ]
  },
  {
   "cell_type": "markdown",
   "metadata": {},
   "source": [
    "1er ligne : nom de features\n",
    "2eme ligne : valeurs"
   ]
  },
  {
   "cell_type": "code",
   "execution_count": 4,
   "metadata": {},
   "outputs": [
    {
     "data": {
      "text/plain": [
       "{'ID': 0,\n",
       " 'CODE': 1,\n",
       " 'NOM': 2,\n",
       " 'GENRE': 3,\n",
       " 'GENRE_DESC': 4,\n",
       " 'CATEGORIE': 5,\n",
       " 'CATEGORIE_DESC': 6,\n",
       " 'SOUS_CATEGORIE': 7,\n",
       " 'SOUS_CATEGORIE_DESC': 8,\n",
       " 'CODE_PARENT': 9,\n",
       " 'CODE_PARENT_DESC': 10,\n",
       " 'ADR_SECTEUR': 11,\n",
       " 'BIEN_REFERENCE': 12,\n",
       " 'GENRE_BOTA': 13,\n",
       " 'ESPECE': 14,\n",
       " 'VARIETE': 15,\n",
       " 'STADEDEDEVELOPPEMENT': 16,\n",
       " 'EQUIPE': 17,\n",
       " 'REMARQUES': 18,\n",
       " 'ANNEEDEPLANTATION': 19,\n",
       " 'RAISONDEPLANTATION': 20,\n",
       " 'TRAITEMENTCHENILLES': 21,\n",
       " 'COURRIER': 22,\n",
       " 'IDENTIFIANTPLU': 23,\n",
       " 'TYPEIMPLANTATIONPLU': 24,\n",
       " 'INTITULEPROTECTIONPLU': 25,\n",
       " 'ANNEEABATTAGE': 26,\n",
       " 'ESSOUCHEMENT': 27,\n",
       " 'DIAMETREARBRE': 28,\n",
       " 'CAUSEABATTAGE': 29,\n",
       " 'COLLECTIVITE': 30,\n",
       " 'GeoJSON': 31}"
      ]
     },
     "execution_count": 4,
     "metadata": {},
     "output_type": "execute_result"
    }
   ],
   "source": [
    "collis= [x for x in range(len(data[0]))]\n",
    "col=dict(zip(data[0], collis))\n",
    "col #dictionnaire des cols"
   ]
  },
  {
   "cell_type": "markdown",
   "metadata": {},
   "source": [
    "# Premières et 50 dernières lignes de données ANNEDEPLANTATION"
   ]
  },
  {
   "cell_type": "code",
   "execution_count": 5,
   "metadata": {},
   "outputs": [
    {
     "name": "stdout",
     "output_type": "stream",
     "text": [
      "********************** 1er 50 ***********************\n",
      " ['2013', '2013', '2013', '2018', '2013', '2013', '2013', '2013', '2013', '2013', '2013', '2013', '2013', '2013', '2013', '2013', '2013', '2013', '2013', '1970', '1970', '1970', '1970', '1970', '1970', '1970', '1970', '1970', '1970', '1970', '1970', '1970', '1970', '1970', '1970', '1970', '1970', '1970', '1970', '2013', '1990', '1990', '1990', '', '2013', '2013', '2013', '1950', '1975', '2001']\n",
      "********************** dernier 50 ***********************\n",
      " ['1987', '1996', '2014', '2014', '2014', '2014', '1981', '1981', '1981', '1981', '1981', '2014', '1981', '1981', '1981', '1981', '1981', '2006', '2006', '1981', '1981', '2005', '2005', '1980', '1980', '1980', '1980', '2001', '2001', '2001', '2001', '2001', '2008', '2001', '2001', '2001', '2001', '2008', '2001', '2001', '2001', '2001', '2001', '2001', '2001', '2001', '2001', '2001', '2008', '2001']\n"
     ]
    }
   ],
   "source": [
    "anne=[data[x][col['ANNEEDEPLANTATION']] for x in range(1,len(data))]\n",
    "print(\"********************** 1er 50 ***********************\\n\", anne[:50])\n",
    "print(\"********************** dernier 50 ***********************\\n\", anne[-50:])"
   ]
  },
  {
   "cell_type": "markdown",
   "metadata": {},
   "source": [
    "# Nombre darbres, nombre darbres avec anne et nombre darbres en 1980"
   ]
  },
  {
   "cell_type": "code",
   "execution_count": 6,
   "metadata": {},
   "outputs": [
    {
     "name": "stdout",
     "output_type": "stream",
     "text": [
      "nombre darbres: 31875\n"
     ]
    }
   ],
   "source": [
    "print (\"nombre darbres:\", len(data))"
   ]
  },
  {
   "cell_type": "code",
   "execution_count": 7,
   "metadata": {},
   "outputs": [],
   "source": [
    "anne_valid=[x for x in anne if x!='']"
   ]
  },
  {
   "cell_type": "code",
   "execution_count": 8,
   "metadata": {},
   "outputs": [
    {
     "name": "stdout",
     "output_type": "stream",
     "text": [
      "nombre darbres avec anne: 30867\n"
     ]
    }
   ],
   "source": [
    "print (\"nombre darbres avec anne:\", len(anne_valid))"
   ]
  },
  {
   "cell_type": "code",
   "execution_count": 9,
   "metadata": {},
   "outputs": [],
   "source": [
    "listree_1980=[x for x in anne_valid if x=='1980']"
   ]
  },
  {
   "cell_type": "code",
   "execution_count": 10,
   "metadata": {},
   "outputs": [
    {
     "name": "stdout",
     "output_type": "stream",
     "text": [
      "nombre darbres en 1980: 1495\n"
     ]
    }
   ],
   "source": [
    "print (\"nombre darbres en 1980:\", len(listree_1980))"
   ]
  },
  {
   "cell_type": "code",
   "execution_count": 11,
   "metadata": {},
   "outputs": [],
   "source": [
    "anne_valid.sort()\n"
   ]
  },
  {
   "cell_type": "markdown",
   "metadata": {},
   "source": [
    "# Plus ancienne année et plus récente"
   ]
  },
  {
   "cell_type": "code",
   "execution_count": 12,
   "metadata": {},
   "outputs": [
    {
     "name": "stdout",
     "output_type": "stream",
     "text": [
      "plus ancienne année 1924\n",
      "plus récente ? 2019\n"
     ]
    }
   ],
   "source": [
    "print (\"plus ancienne année\", anne_valid[0])\n",
    "print (\"plus récente ?\", anne_valid[-1])"
   ]
  },
  {
   "cell_type": "markdown",
   "metadata": {},
   "source": [
    "❏ Combien d’arbres ont été plantés l’année de votre naissance ? ❏ Quelle est la plus ancienne année de plantation recensée dans ce dataset ? La plus récente ? ❏ Combien d’arbres ont été plantés année par année (ex : 1987 : 771, 1988 : 266, etc…) ? ❏ Combien d’arbres ont été plantés en moyenne chaque année ? ○ Moyenne d’une liste de deux manières : https://www.geeksforgeeks.org/find-average-list-python/ ❏ Quel Maire a planté le plus d’arbres à Grenoble ? ❏ Récupérez maintenant l’information concernant le genre botanique et la stocker conjointement avec l’année de plantation dans un tuple. Les tuples seront stockés dans une liste (ex : [ (‘1987’, 771), (‘1988’, 266), ….. ] ) ○ Les tuples en python : https://courspython.com/tuple.html ❏ Pour combien d'arbres manque-t-il l’information concernant le genre botanique ? ❏ Utilisez Matplotlib pour tracer l’histogramme représentant le nombre d’arbres plantés par année. ○ Exemple : https://www.kite.com/python/answers/how-to-plot-a-histogram-from-a-l ist-in-matplotlib-in-python ○ Doc officielle : https://matplotlib.org/stable/api/_as_gen/matplotlib.pyplot.hist.html ❏ (plus dur) Triez les tuples en fonction de l’année de plantation par ordre décroissant. "
   ]
  },
  {
   "cell_type": "code",
   "execution_count": 13,
   "metadata": {},
   "outputs": [
    {
     "name": "stdout",
     "output_type": "stream",
     "text": [
      "['1924', '1944', '1950', '1955', '1959', '1960', '1964', '1965', '1966', '1967', '1968', '1969', '1970', '1971', '1972', '1973', '1974', '1975', '1976', '1977', '1978', '1979', '1980', '1981', '1982', '1983', '1984', '1985', '1986', '1987', '1988', '1989', '1990', '1991', '1992', '1993', '1994', '1995', '1996', '1997', '1998', '1999', '2000', '2001', '2002', '2003', '2004', '2005', '2006', '2007', '2008', '2009', '2010', '2011', '2012', '2013', '2014', '2015', '2016', '2017', '2018', '2019']\n"
     ]
    }
   ],
   "source": [
    "set_anne=sorted(set(anne_valid))\n",
    "print(set_anne)"
   ]
  },
  {
   "cell_type": "markdown",
   "metadata": {},
   "source": [
    "# Distribution de la plantation année par année"
   ]
  },
  {
   "cell_type": "code",
   "execution_count": 14,
   "metadata": {},
   "outputs": [],
   "source": [
    "d={}\n",
    "for i in set_anne:\n",
    "    listree=[x for x in anne_valid if x==i]\n",
    "    d[i]=len(listree)\n"
   ]
  },
  {
   "cell_type": "code",
   "execution_count": 15,
   "metadata": {},
   "outputs": [
    {
     "name": "stdout",
     "output_type": "stream",
     "text": [
      "********************Distribution année par année***********************\n",
      "*********************************************************************\n"
     ]
    },
    {
     "data": {
      "text/plain": [
       "{'1924': 12,\n",
       " '1944': 27,\n",
       " '1950': 403,\n",
       " '1955': 118,\n",
       " '1959': 16,\n",
       " '1960': 710,\n",
       " '1964': 6,\n",
       " '1965': 741,\n",
       " '1966': 87,\n",
       " '1967': 55,\n",
       " '1968': 111,\n",
       " '1969': 315,\n",
       " '1970': 1385,\n",
       " '1971': 69,\n",
       " '1972': 338,\n",
       " '1973': 33,\n",
       " '1974': 292,\n",
       " '1975': 3766,\n",
       " '1976': 927,\n",
       " '1977': 606,\n",
       " '1978': 853,\n",
       " '1979': 342,\n",
       " '1980': 1495,\n",
       " '1981': 606,\n",
       " '1982': 373,\n",
       " '1983': 304,\n",
       " '1984': 650,\n",
       " '1985': 911,\n",
       " '1986': 228,\n",
       " '1987': 729,\n",
       " '1988': 254,\n",
       " '1989': 302,\n",
       " '1990': 344,\n",
       " '1991': 142,\n",
       " '1992': 223,\n",
       " '1993': 141,\n",
       " '1994': 272,\n",
       " '1995': 747,\n",
       " '1996': 372,\n",
       " '1997': 233,\n",
       " '1998': 215,\n",
       " '1999': 577,\n",
       " '2000': 441,\n",
       " '2001': 1594,\n",
       " '2002': 322,\n",
       " '2003': 345,\n",
       " '2004': 349,\n",
       " '2005': 397,\n",
       " '2006': 595,\n",
       " '2007': 147,\n",
       " '2008': 215,\n",
       " '2009': 669,\n",
       " '2010': 458,\n",
       " '2011': 509,\n",
       " '2012': 326,\n",
       " '2013': 319,\n",
       " '2014': 899,\n",
       " '2015': 1015,\n",
       " '2016': 515,\n",
       " '2017': 638,\n",
       " '2018': 778,\n",
       " '2019': 6}"
      ]
     },
     "execution_count": 15,
     "metadata": {},
     "output_type": "execute_result"
    }
   ],
   "source": [
    "print (\"********************Distribution année par année***********************\")\n",
    "print (\"*********************************************************************\")\n",
    "d"
   ]
  },
  {
   "cell_type": "markdown",
   "metadata": {},
   "source": [
    "# Matplotlib pour tracer l’histogramme représentant le nombre d’arbres plantés par année. "
   ]
  },
  {
   "cell_type": "code",
   "execution_count": 16,
   "metadata": {},
   "outputs": [],
   "source": [
    "import matplotlib.pyplot as plt\n",
    "import matplotlib as mpl\n",
    "%matplotlib inline\n",
    "mpl.rcParams.update(mpl.rcParamsDefault)"
   ]
  },
  {
   "cell_type": "code",
   "execution_count": 17,
   "metadata": {},
   "outputs": [
    {
     "name": "stdout",
     "output_type": "stream",
     "text": [
      "moyenne chaque année  497.85483870967744\n"
     ]
    }
   ],
   "source": [
    "print (\"moyenne chaque année \", sum(d.values())/len(d))"
   ]
  },
  {
   "cell_type": "code",
   "execution_count": 18,
   "metadata": {},
   "outputs": [],
   "source": [
    "plt.rcParams[\"figure.figsize\"] = (15,10)\n",
    "plt.style.use('tableau-colorblind10')"
   ]
  },
  {
   "cell_type": "code",
   "execution_count": 56,
   "metadata": {},
   "outputs": [
    {
     "data": {
      "text/plain": [
       "Text(0.5, 1.0, 'Distribution année par année')"
      ]
     },
     "execution_count": 56,
     "metadata": {},
     "output_type": "execute_result"
    }
   ],
   "source": [
    "plt.bar(*zip(*d.items()))\n",
    "plt.xticks(rotation=90)\n",
    "plt.title(\"Distribution année par année\")\n",
    "#plt.show()"
   ]
  },
  {
   "cell_type": "markdown",
   "metadata": {},
   "source": [
    "# Add some color"
   ]
  },
  {
   "cell_type": "code",
   "execution_count": 20,
   "metadata": {},
   "outputs": [],
   "source": [
    "import random"
   ]
  },
  {
   "cell_type": "code",
   "execution_count": 21,
   "metadata": {},
   "outputs": [],
   "source": [
    "def plotbar_from_dict(ipdict, sizex=25, sizey=10, labelrotation=90, title=\"\"):\n",
    "    fig, ax = plt.subplots(figsize=(sizex, sizey))\n",
    "    ax.clear()\n",
    "    x=list(ipdict.keys())\n",
    "    y=list(ipdict.values())\n",
    "    number_of_colors = len(x)\n",
    "\n",
    "    color = [\"#\"+''.join([random.choice('0123456789ABCDEF') for j in range(6)])\n",
    "             for i in range(number_of_colors)]\n",
    "\n",
    "    for i in range(0,len(x)):\n",
    "          ax.bar(x[i],y[i],color=color[i])\n",
    "    ax.tick_params(axis='x', labelrotation=labelrotation)\n",
    "    ax.set_title(title)\n",
    "    return ax\n",
    "    "
   ]
  },
  {
   "cell_type": "code",
   "execution_count": 22,
   "metadata": {},
   "outputs": [
    {
     "data": {
      "text/plain": [
       "<AxesSubplot:title={'center':'Distribution année par année'}>"
      ]
     },
     "execution_count": 22,
     "metadata": {},
     "output_type": "execute_result"
    }
   ],
   "source": [
    "plotbar_from_dict(d, title= \"Distribution année par année\")"
   ]
  },
  {
   "cell_type": "markdown",
   "metadata": {},
   "source": [
    "# Distribution de la plantation pour chaque Maire"
   ]
  },
  {
   "cell_type": "code",
   "execution_count": 23,
   "metadata": {},
   "outputs": [],
   "source": [
    "mayors=[\"Léon Martin\",  \"Albert Michallon \" , \"Hubert Dubedout\" , \"Alain Carignon\" , \"Michel Destot \" , \"Éric Piolle\"] \n",
    "endyear=[1959, 1965, 1983, 1995, 2014, 2021]\n",
    "#endyear=[1959, 1965, 1983, 1995, 2014, 2021]\n",
    "startyear=[0, 1960, 1966, 1984, 1996, 2015, 2021]"
   ]
  },
  {
   "cell_type": "code",
   "execution_count": 24,
   "metadata": {},
   "outputs": [],
   "source": [
    "years=[int(x) for x in d.keys() ]\n",
    "dint=dict(zip(years, d.values()))       "
   ]
  },
  {
   "cell_type": "code",
   "execution_count": 25,
   "metadata": {},
   "outputs": [],
   "source": [
    "mayordict={}\n",
    "for mayor in mayors:\n",
    "    ind=mayors.index(mayor)\n",
    "    start=startyear[ind]\n",
    "    end=startyear[ind]\n",
    "    somme=0\n",
    "    for i in range(startyear[ind], startyear[ind+1]):\n",
    "        if i in dint.keys():\n",
    "            somme+=dint[i]\n",
    "    mayordict[mayor]=somme"
   ]
  },
  {
   "cell_type": "code",
   "execution_count": 65,
   "metadata": {},
   "outputs": [],
   "source": [
    "#added new feature ##\n",
    "def mayorsum(mayors):\n",
    "    mayordict={}\n",
    "    for mayor in mayors:\n",
    "        ind=mayors.index(mayor)\n",
    "        start=startyear[ind]\n",
    "        end=startyear[ind]\n",
    "        somme=0\n",
    "    for i in range(startyear[ind], startyear[ind+1]):\n",
    "        if i in dint.keys():\n",
    "            somme+=dint[i]\n",
    "        mayordict[mayor]=somme\n",
    "    return mayordict\n",
    "    "
   ]
  },
  {
   "cell_type": "code",
   "execution_count": 26,
   "metadata": {},
   "outputs": [
    {
     "name": "stdout",
     "output_type": "stream",
     "text": [
      "********************Distribution de la plantation pour chaque maire***********************\n"
     ]
    },
    {
     "data": {
      "text/plain": [
       "{'Léon Martin': 576,\n",
       " 'Albert Michallon ': 1457,\n",
       " 'Hubert Dubedout': 11957,\n",
       " 'Alain Carignon': 4943,\n",
       " 'Michel Destot ': 8982,\n",
       " 'Éric Piolle': 2952}"
      ]
     },
     "execution_count": 26,
     "metadata": {},
     "output_type": "execute_result"
    }
   ],
   "source": [
    "print (\"********************Distribution de la plantation pour chaque maire***********************\")\n",
    "mayordict"
   ]
  },
  {
   "cell_type": "code",
   "execution_count": 27,
   "metadata": {},
   "outputs": [
    {
     "data": {
      "text/plain": [
       "<AxesSubplot:title={'center':'Distribution de la plantation pour chaque maire'}>"
      ]
     },
     "execution_count": 27,
     "metadata": {},
     "output_type": "execute_result"
    }
   ],
   "source": [
    "plotbar_from_dict(mayordict, 15, 6, 0, title=\"Distribution de la plantation pour chaque maire\")\n",
    "    "
   ]
  },
  {
   "cell_type": "markdown",
   "metadata": {},
   "source": [
    "Récupérez maintenant l’information concernant le genre botanique et la stocker conjointement \n",
    "avec l’année de plantation dans un tuple."
   ]
  },
  {
   "cell_type": "markdown",
   "metadata": {},
   "source": [
    "# L’information concernant le genre botanique et la stocker conjointement avec l’année de plantation dans un tuple."
   ]
  },
  {
   "cell_type": "code",
   "execution_count": 28,
   "metadata": {},
   "outputs": [],
   "source": [
    "genre_list=[]\n",
    "for i in range(len(data)):\n",
    "    genre=data[i][col['GENRE_BOTA']]\n",
    "    annpl=data[i][col['ANNEEDEPLANTATION']]\n",
    "    if genre!=''and annpl!='':\n",
    "        genre_list=genre_list+[(genre, annpl)]"
   ]
  },
  {
   "cell_type": "code",
   "execution_count": 29,
   "metadata": {},
   "outputs": [
    {
     "name": "stdout",
     "output_type": "stream",
     "text": [
      "********************5 tuples in list ***********************\n"
     ]
    },
    {
     "data": {
      "text/plain": [
       "[('GENRE_BOTA', 'ANNEEDEPLANTATION'),\n",
       " ('Acer', '2013'),\n",
       " ('Acer', '2013'),\n",
       " ('Acer', '2013'),\n",
       " ('Acer', '2018'),\n",
       " ('Acer', '2013')]"
      ]
     },
     "execution_count": 29,
     "metadata": {},
     "output_type": "execute_result"
    }
   ],
   "source": [
    "print (\"********************5 tuples in list ***********************\")\n",
    "genre_list[:6]"
   ]
  },
  {
   "cell_type": "markdown",
   "metadata": {},
   "source": [
    "❏ Récupérez maintenant l’information concernant le genre botanique et la stocker conjointement avec l’année de plantation dans un tuple. Les tuples seront stockés dans une liste (ex : [ (‘1987’, 771), (‘1988’, 266), ….. ] ) ○ Les tuples en python : https://courspython.com/tuple.html ❏ Pour combien d'arbres manque-t-il l’information concernant le genre botanique ? ❏ Utilisez Matplotlib pour tracer l’histogramme représentant le nombre d’arbres plantés par année. ○ Exemple : https://www.kite.com/python/answers/how-to-plot-a-histogram-from-a-l ist-in-matplotlib-in-python ○ Doc officielle : https://matplotlib.org/stable/api/_as_gen/matplotlib.pyplot.hist.html ❏ (plus dur) Triez les tuples en fonction de l’année de plantation par ordre décroissant. "
   ]
  },
  {
   "cell_type": "markdown",
   "metadata": {},
   "source": [
    "Consignes \n",
    "● Pour commencer, identifiez tous les genres botaniques représentés à Grenoble. Combien y en a-t-il ? Essayez plusieurs manières de résoudre ce problème. \n",
    "● Identifiez maintenant toutes les espèces différentes présentes à Grenoble. N’oubliez pas que les espèces sont une sous catégorie de genre botanique ! (l’espèce est ‘Platanus Acerifolia’ et pas uniquement ‘Acerifolia’) \n",
    "● En utilisant la structure de données Dict compter le nombre de représentants de chaque genre botanique : \n",
    "○ Quels sont les genres botaniques les plus représentés ? Quelle est la proportion par rapport au total ? Les objectifs de la Métro sont-ils respectés en termes de diversité ? \n",
    "○ Listez tous les représentants uniques de leurs genre botanique \n",
    "● Idem précédemment mais en comptant les espèces. \n",
    "● (plus dur) Comment la pratique de plantation a-t-elle évolué au cours du temps ? Diversifie-t-on plus maintenant qu’avant ? Vos analyses sont-elles en accord avec le communiqué de presse ? \n"
   ]
  },
  {
   "cell_type": "code",
   "execution_count": 30,
   "metadata": {},
   "outputs": [],
   "source": [
    "espece=[data[x][col['GENRE_BOTA']]+' ' +data[x][col['ESPECE']] for x in range(1,len(data))]"
   ]
  },
  {
   "cell_type": "code",
   "execution_count": 31,
   "metadata": {},
   "outputs": [],
   "source": [
    "espece_set=set(espece)"
   ]
  },
  {
   "cell_type": "code",
   "execution_count": 32,
   "metadata": {},
   "outputs": [],
   "source": [
    "delim=\" \" #remove nulls\n",
    "varieties=[x for x in espece_set if (delim in list(x)) and (list(x)[-1]!=delim)]"
   ]
  },
  {
   "cell_type": "code",
   "execution_count": 33,
   "metadata": {},
   "outputs": [
    {
     "name": "stdout",
     "output_type": "stream",
     "text": [
      "********************Variétés : les 5 premières de la liste ***********************\n"
     ]
    },
    {
     "data": {
      "text/plain": [
       "['Liriodendron tulipifera',\n",
       " 'Salix viminalis',\n",
       " 'Nyssa sylvatica',\n",
       " 'Fraxinus excelsior',\n",
       " 'Acer opalus']"
      ]
     },
     "execution_count": 33,
     "metadata": {},
     "output_type": "execute_result"
    }
   ],
   "source": [
    "print (\"********************Variétés : les 5 premières de la liste ***********************\")\n",
    "varieties[:5]"
   ]
  },
  {
   "cell_type": "code",
   "execution_count": 34,
   "metadata": {},
   "outputs": [
    {
     "name": "stdout",
     "output_type": "stream",
     "text": [
      "********************N de Variétés***********************\n"
     ]
    },
    {
     "data": {
      "text/plain": [
       "347"
      ]
     },
     "execution_count": 34,
     "metadata": {},
     "output_type": "execute_result"
    }
   ],
   "source": [
    "print (\"********************N de Variétés***********************\")\n",
    "len(varieties)"
   ]
  },
  {
   "cell_type": "code",
   "execution_count": 35,
   "metadata": {},
   "outputs": [],
   "source": [
    "genrelist=[data[x][col['GENRE_BOTA']] for x in range(1,len(data))]\n",
    "genreset=set(genrelist)\n",
    "genreset.remove('')\n",
    "gendict={}\n",
    "for i in genreset:\n",
    "    listgenre=[x for x in genrelist if x==i]\n",
    "    gendict[i]=len(listgenre)"
   ]
  },
  {
   "cell_type": "markdown",
   "metadata": {},
   "source": [
    "## Variétés : les 5 premières de la liste"
   ]
  },
  {
   "cell_type": "code",
   "execution_count": 36,
   "metadata": {},
   "outputs": [
    {
     "data": {
      "text/plain": [
       "[('Salix', 137),\n",
       " ('Ginkgo', 114),\n",
       " ('Cedrus', 416),\n",
       " ('Acer', 5249),\n",
       " ('Eucalyptus', 1),\n",
       " ('Sambucus', 36),\n",
       " ('Juniperus', 4),\n",
       " ('Sorbopyrus', 1),\n",
       " ('Alnus', 812),\n",
       " ('Laburnum', 9)]"
      ]
     },
     "execution_count": 36,
     "metadata": {},
     "output_type": "execute_result"
    }
   ],
   "source": [
    "list(gendict.items())[:10]"
   ]
  },
  {
   "cell_type": "code",
   "execution_count": 37,
   "metadata": {},
   "outputs": [
    {
     "data": {
      "text/plain": [
       "<AxesSubplot:title={'center':'Distribution année par année'}>"
      ]
     },
     "execution_count": 37,
     "metadata": {},
     "output_type": "execute_result"
    }
   ],
   "source": [
    "plotbar_from_dict(gendict, title= \"Distribution année par année\")"
   ]
  },
  {
   "cell_type": "code",
   "execution_count": 38,
   "metadata": {},
   "outputs": [],
   "source": [
    "def topdict(gendict):\n",
    "    keys, values = list(gendict.keys()), list(gendict.values())\n",
    "    inds= [i for (v, i) in sorted((v, i) for (i, v) in enumerate(values))] #sorted values as tuples with ind\n",
    "    values_sorted=sorted(values, reverse=True)\n",
    "    keys_sorted=[keys[x] for x in inds]\n",
    "    outkeys, outvals=keys_sorted, values_sorted\n",
    "    return dict(zip(outkeys, outvals))"
   ]
  },
  {
   "cell_type": "code",
   "execution_count": 39,
   "metadata": {},
   "outputs": [],
   "source": [
    "def top20dict(gendict):\n",
    "    keys, values = list(gendict.keys()), list(gendict.values())\n",
    "    inds= [i for (v, i) in sorted((v, i) for (i, v) in enumerate(values))] #sorted values as tuples with ind\n",
    "    values_sorted=sorted(values, reverse=True)\n",
    "    keys_sorted=[keys[x] for x in inds]\n",
    "    outkeys, outvals=keys_sorted[:9], values_sorted[:9]\n",
    "    outkeys=outkeys+['autres']\n",
    "    outvals= outvals+[sum(values_sorted)-sum(outvals)]\n",
    "    return dict(zip(outkeys, outvals))\n",
    "    "
   ]
  },
  {
   "cell_type": "code",
   "execution_count": 67,
   "metadata": {},
   "outputs": [],
   "source": []
  },
  {
   "cell_type": "code",
   "execution_count": 40,
   "metadata": {},
   "outputs": [
    {
     "data": {
      "text/plain": [
       "{'Eucalyptus': 5249,\n",
       " 'Sorbopyrus': 4579,\n",
       " 'Sterculia': 2041,\n",
       " 'Poncinos': 1768,\n",
       " 'Pseudotsuga': 1523,\n",
       " 'Staphylea': 1335,\n",
       " 'Sciadopitys': 1212,\n",
       " 'Nyssa': 1177,\n",
       " 'Acacia': 896,\n",
       " 'autres': 11781}"
      ]
     },
     "execution_count": 40,
     "metadata": {},
     "output_type": "execute_result"
    }
   ],
   "source": [
    "top10dict(gendict )"
   ]
  },
  {
   "cell_type": "markdown",
   "metadata": {},
   "source": [
    "○ Listez tous les représentants uniques de leurs genre botanique ● Idem précédemment mais en comptant les espèces. ● (plus dur) Comment la pratique de plantation a-t-elle évolué au cours du temps ? Diversifie-t-on plus maintenant qu’avant ? Vos analyses sont-elles en accord avec le communiqué de presse ? "
   ]
  },
  {
   "cell_type": "markdown",
   "metadata": {},
   "source": [
    "### Ici, le maximum est de 17%, ce qui suggère une diversité dans la plantation."
   ]
  },
  {
   "cell_type": "markdown",
   "metadata": {},
   "source": [
    "# Dictionary of subcategories and their counts"
   ]
  },
  {
   "cell_type": "code",
   "execution_count": 41,
   "metadata": {},
   "outputs": [],
   "source": [
    "subcatdict={} #dictionary of genre with the set of sub categories as values\n",
    "subcatnos={} # sub counts for each genre\n",
    "for x in genreset:\n",
    "    newset=set()\n",
    "    for j in range (len(data)):\n",
    "        if x==data[j][col['GENRE_BOTA']]:\n",
    "            if (data[j][col['ESPECE']]!=''):\n",
    "                newset.add(data[j][col['ESPECE']])\n",
    "    subcatdict[x]=newset\n",
    "    subcatnos[x]=len(newset)"
   ]
  },
  {
   "cell_type": "code",
   "execution_count": 42,
   "metadata": {},
   "outputs": [
    {
     "data": {
      "text/plain": [
       "[('Salix',\n",
       "  {'alba',\n",
       "   'babylonica',\n",
       "   'caprea',\n",
       "   'matsudana',\n",
       "   'purpurea',\n",
       "   'rosmarinifolia',\n",
       "   'sepulcralis',\n",
       "   'triandra',\n",
       "   'viminalis'}),\n",
       " ('Ginkgo', {'biloba'}),\n",
       " ('Cedrus', {'atlantica', 'deodara', 'libani'}),\n",
       " ('Acer',\n",
       "  {'buergerianum',\n",
       "   'campestre',\n",
       "   'capillipes',\n",
       "   'cappadocicum',\n",
       "   'carpinifolium',\n",
       "   'davidii',\n",
       "   'freemanii',\n",
       "   'ginnala',\n",
       "   'griseum',\n",
       "   'heldreichii',\n",
       "   'hippocastanum',\n",
       "   'japonicum',\n",
       "   'macrophyllum',\n",
       "   'monspessulanum',\n",
       "   'negundo',\n",
       "   'nikoense',\n",
       "   'opalus',\n",
       "   'palmatum',\n",
       "   'pensylvanicum',\n",
       "   'platanoides',\n",
       "   'pseudoplatanus',\n",
       "   'rubrum',\n",
       "   'saccharinum',\n",
       "   'tartaricum',\n",
       "   'triflorum',\n",
       "   'zoeschense'}),\n",
       " ('Eucalyptus', {'gunii'}),\n",
       " ('Sambucus', {'nigra', 'racemosa'}),\n",
       " ('Juniperus', {'drupacea', 'virginiana'}),\n",
       " ('Sorbopyrus', {'auricularis'}),\n",
       " ('Alnus', {'cordata', 'glutinosa', 'incana', 'spaethii'}),\n",
       " ('Laburnum', {'anagyroides'})]"
      ]
     },
     "execution_count": 42,
     "metadata": {},
     "output_type": "execute_result"
    }
   ],
   "source": [
    "list(subcatdict.items())[:10]"
   ]
  },
  {
   "cell_type": "code",
   "execution_count": 43,
   "metadata": {},
   "outputs": [
    {
     "data": {
      "text/plain": [
       "<AxesSubplot:title={'center':'Sous-catégories : données 2017'}>"
      ]
     },
     "execution_count": 43,
     "metadata": {},
     "output_type": "execute_result"
    }
   ],
   "source": [
    "plotbar_from_dict(subcatnos, 25, 10, title= \"Sous-catégories : données 2017\")"
   ]
  },
  {
   "cell_type": "code",
   "execution_count": 44,
   "metadata": {},
   "outputs": [],
   "source": [
    "#years to int\n",
    "genre_by_int=[(x[0], int(x[1])) for x in genre_list[1:]]"
   ]
  },
  {
   "cell_type": "code",
   "execution_count": 45,
   "metadata": {},
   "outputs": [],
   "source": [
    "#Genre data till plantation year\n",
    "def outbyyear(genlist, year):\n",
    "    outlist=[x for x in genlist if x[1]<=year]\n",
    "    return outlist"
   ]
  },
  {
   "cell_type": "code",
   "execution_count": 46,
   "metadata": {},
   "outputs": [],
   "source": [
    "#Count Genres by plantation year\n",
    "def total_genre_year(inlist):\n",
    "    subdict={}\n",
    "    subset=set([x[0] for x in inlist])\n",
    "    for i in subset:\n",
    "        sublist=[x for x in inlist if x[0]==i]\n",
    "        subdict[i]=len(sublist)\n",
    "    return subdict"
   ]
  },
  {
   "cell_type": "code",
   "execution_count": 47,
   "metadata": {},
   "outputs": [
    {
     "data": {
      "text/plain": [
       "{'Larix': 570,\n",
       " 'Robinia': 228,\n",
       " 'Catalpa': 73,\n",
       " 'Corylus': 62,\n",
       " 'Morus': 47,\n",
       " 'Sorbopyrus': 40,\n",
       " 'Sequoia': 33,\n",
       " 'Olea': 23,\n",
       " 'Juglans': 21,\n",
       " 'autres': 189}"
      ]
     },
     "execution_count": 47,
     "metadata": {},
     "output_type": "execute_result"
    }
   ],
   "source": [
    "top10dict(total_genre_year(outbyyear(genre_by_int, 1960)))"
   ]
  },
  {
   "cell_type": "markdown",
   "metadata": {},
   "source": [
    "# Evolution du genre"
   ]
  },
  {
   "cell_type": "code",
   "execution_count": 61,
   "metadata": {},
   "outputs": [],
   "source": [
    "def plot_pie(inlist, title='Distribution of Genres'):\n",
    "    keys, values = list(inlist.keys()), list(inlist.values())\n",
    "    #fig = plt.figure(figsize=(15, 10))\n",
    "    plt.pie(values, labels=keys,autopct='%1.1f%%',pctdistance=0.8, textprops={ 'fontsize': 14})\n",
    "    plt.axis('equal')\n",
    "    plt.title(title)\n",
    "    #plt.show()\n",
    "   # return fig"
   ]
  },
  {
   "cell_type": "code",
   "execution_count": 62,
   "metadata": {},
   "outputs": [],
   "source": [
    "year=1960\n",
    "plot_pie(top10dict(total_genre_year(outbyyear(genre_by_int, year))), \n",
    "             title=\"Distribution, année \"+str(year))\n",
    "year=1980\n",
    "plot_pie(top10dict(total_genre_year(outbyyear(genre_by_int, year))), \n",
    "             title=\"Distribution, année \"+str(year))\n",
    "year=2000\n",
    "plot_pie(top10dict(total_genre_year(outbyyear(genre_by_int, year))), \n",
    "             title=\"Distribution, année \"+str(year))\n",
    "year=2017\n",
    "plot_pie(top10dict(total_genre_year(outbyyear(genre_by_int, year))), \n",
    "             title=\"Distribution, année \"+str(year))"
   ]
  },
  {
   "cell_type": "code",
   "execution_count": 50,
   "metadata": {},
   "outputs": [
    {
     "data": {
      "text/plain": [
       "113"
      ]
     },
     "execution_count": 50,
     "metadata": {},
     "output_type": "execute_result"
    }
   ],
   "source": [
    "len(total_genre_year(outbyyear(genre_by_int, year)))"
   ]
  },
  {
   "cell_type": "code",
   "execution_count": 51,
   "metadata": {},
   "outputs": [],
   "source": [
    "years=[year for year in range(1959,2017)]\n",
    "ngenres=[len(total_genre_year(outbyyear(genre_by_int, year))) for year in years]\n"
   ]
  },
  {
   "cell_type": "code",
   "execution_count": 63,
   "metadata": {},
   "outputs": [
    {
     "data": {
      "text/plain": [
       "Text(4.444444444444445, 0.5, 'Nombre de Genre')"
      ]
     },
     "execution_count": 63,
     "metadata": {},
     "output_type": "execute_result"
    }
   ],
   "source": [
    "plt.plot(years, ngenres)\n",
    "\n",
    "plt.xticks()\n",
    "plt.title(\"Genre par année\")\n",
    "plt.xlabel(\"Année\")\n",
    "plt.ylabel(\"Nombre de Genre\") \n",
    "#plt.show()"
   ]
  },
  {
   "cell_type": "markdown",
   "metadata": {},
   "source": [
    "# distribution of top 5\n"
   ]
  },
  {
   "cell_type": "code",
   "execution_count": 53,
   "metadata": {},
   "outputs": [],
   "source": [
    "top9=list(top10dict(gendict ).keys())[:9]"
   ]
  },
  {
   "cell_type": "code",
   "execution_count": 54,
   "metadata": {},
   "outputs": [],
   "source": [
    "lisfin=[]\n",
    "for year in years:\n",
    "    genbyyear=topdict(total_genre_year(outbyyear(genre_by_int, year)))\n",
    "    tmp=[]\n",
    "    for i in range(len(top9)):\n",
    "        if top9[i] in list(genbyyear.keys()):\n",
    "            tmp.append(genbyyear[top9[i]])\n",
    "        else:\n",
    "            tmp.append(0)            \n",
    "    lisfin.append(tmp)"
   ]
  },
  {
   "cell_type": "code",
   "execution_count": 64,
   "metadata": {},
   "outputs": [
    {
     "data": {
      "text/plain": [
       "Text(0.5, 1.0, 'Evolution du genre')"
      ]
     },
     "execution_count": 64,
     "metadata": {},
     "output_type": "execute_result"
    }
   ],
   "source": [
    "for i in range(1, 9):\n",
    "    #[x[i] for x in lisfin]\n",
    "    plt.plot(years, [x[i] for x in lisfin], label=top9[i])\n",
    "    plt.legend(loc=\"upper left\")\n",
    "plt.title(\"Evolution du genre\")\n",
    "#plt.show()"
   ]
  },
  {
   "cell_type": "code",
   "execution_count": null,
   "metadata": {},
   "outputs": [],
   "source": []
  }
 ],
 "metadata": {
  "kernelspec": {
   "display_name": "Python 3",
   "language": "python",
   "name": "python3"
  },
  "language_info": {
   "codemirror_mode": {
    "name": "ipython",
    "version": 3
   },
   "file_extension": ".py",
   "mimetype": "text/x-python",
   "name": "python",
   "nbconvert_exporter": "python",
   "pygments_lexer": "ipython3",
   "version": "3.7.7"
  }
 },
 "nbformat": 4,
 "nbformat_minor": 4
}
